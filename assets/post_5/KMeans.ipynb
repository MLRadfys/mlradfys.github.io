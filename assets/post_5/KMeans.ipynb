{
 "cells": [
  {
   "cell_type": "markdown",
   "metadata": {},
   "source": [
    "# K-mean clustering from scratch"
   ]
  },
  {
   "cell_type": "code",
   "execution_count": 17,
   "metadata": {},
   "outputs": [],
   "source": [
    "from sklearn.datasets import load_iris\n",
    "import numpy as np\n",
    "from copy import  deepcopy\n",
    "import matplotlib.pyplot as plt"
   ]
  },
  {
   "cell_type": "code",
   "execution_count": 18,
   "metadata": {},
   "outputs": [],
   "source": [
    "class KMeans:\n",
    "\n",
    "    def __init__(self, K = 3):\n",
    "        \n",
    "        self.X, self.y = self.load_dataset()\n",
    "        self.N = self.X.shape[0]\n",
    "        self.K = K\n",
    "\n",
    "    def load_dataset(self):\n",
    "\n",
    "        dataset = load_iris()\n",
    "        X = dataset.data\n",
    "        y = dataset.target\n",
    "\n",
    "        return X, y\n",
    "    \n",
    "    def init_clusters(self):\n",
    "\n",
    "        mean = np.mean(self.X, axis = 0)\n",
    "        std = np.std(self.X, axis = 0)\n",
    "        centers = np.random.randn(self.K,self.X.shape[1])*std + mean\n",
    "\n",
    "        return centers\n",
    "\n",
    "    def run(self):\n",
    "        \n",
    "        centers = self.init_clusters()\n",
    "\n",
    "        centers_old = np.zeros(centers.shape) # to store old centers\n",
    "        \n",
    "        centers_new = deepcopy(centers) # Store new centers\n",
    "\n",
    "        clusters = np.zeros(self.N)\n",
    "        distances = np.zeros((self.N,self.K))\n",
    "\n",
    "        error = np.linalg.norm(centers_new - centers_old)\n",
    "\n",
    "        # When, after an update, the estimate of that center stays the same, exit loop\n",
    "        while error != 0:\n",
    "            \n",
    "            # Measure the distance to every center\n",
    "            for i in range(self.K):\n",
    "                distances[:,i] = np.linalg.norm(self.X - centers_new[i], axis=1)\n",
    "            \n",
    "            # Assign all training data to closest center\n",
    "            clusters = np.argmin(distances, axis = 1)\n",
    "            \n",
    "            centers_old = deepcopy(centers_new)\n",
    "            # Calculate mean for every cluster and update the center\n",
    "            for i in range(self.K):\n",
    "                centers_new[i] = np.mean(self.X[clusters == i], axis=0)\n",
    "            error = np.linalg.norm(centers_new - centers_old)\n",
    "            print(error)\n",
    "\n",
    "        # Plot the data\n",
    "        colors=['orange', 'blue', 'green']\n",
    "        for i in range(self.N):\n",
    "            plt.scatter(self.X[i, 0], self.X[i,1], s=7, color = colors[int(self.y[i])])\n",
    "        plt.scatter(centers_new[:,0], centers_new[:,1], marker='*', c='g', s=150)\n",
    "\n",
    "        "
   ]
  },
  {
   "cell_type": "code",
   "execution_count": 19,
   "metadata": {},
   "outputs": [
    {
     "name": "stdout",
     "output_type": "stream",
     "text": [
      "3.5558970790545437\n",
      "1.2392005325442768\n",
      "0.4859372607451387\n",
      "0.13197050375310407\n",
      "0.038159207034740884\n",
      "0.0\n"
     ]
    },
    {
     "data": {
      "image/png": "[encoded data removed]",
      "text/plain": [
       "<Figure size 432x288 with 1 Axes>"
      ]
     },
     "metadata": {
      "needs_background": "light"
     },
     "output_type": "display_data"
    }
   ],
   "source": [
    "kmeans = KMeans(K = 3)\n",
    "kmeans.run()"
   ]
  }
 ],
 "metadata": {
  "interpreter": {
   "hash": "b18422c43890a6d67875a2514ee36a44087ca762e98c02cdd1bbf1ba48bf1b07"
  },
  "kernelspec": {
   "display_name": "Python 3.8.10 64-bit ('assist_venv': venv)",
   "name": "python3"
  },
  "language_info": {
   "codemirror_mode": {
    "name": "ipython",
    "version": 3
   },
   "file_extension": ".py",
   "mimetype": "text/x-python",
   "name": "python",
   "nbconvert_exporter": "python",
   "pygments_lexer": "ipython3",
   "version": "3.8.10"
  },
  "orig_nbformat": 4
 },
 "nbformat": 4,
 "nbformat_minor": 2
}
